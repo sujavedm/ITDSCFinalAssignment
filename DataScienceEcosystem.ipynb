{
  "metadata": {
    "language_info": {
      "codemirror_mode": {
        "name": "python",
        "version": 3
      },
      "file_extension": ".py",
      "mimetype": "text/x-python",
      "name": "python",
      "nbconvert_exporter": "python",
      "pygments_lexer": "ipython3",
      "version": "3.8"
    },
    "kernelspec": {
      "name": "python",
      "display_name": "Python (Pyodide)",
      "language": "python"
    }
  },
  "nbformat_minor": 4,
  "nbformat": 4,
  "cells": [
    {
      "cell_type": "markdown",
      "source": "# Data Science Tools and Ecosystem",
      "metadata": {}
    },
    {
      "cell_type": "markdown",
      "source": "### In this notebook, Data Science Tools and Ecosystem are summarized.",
      "metadata": {}
    },
    {
      "cell_type": "markdown",
      "source": "**Objectives**\n\n-List of languages used in data science\n-list of data science libraries in various languages\n-Table of data science tools\n-Evaluating arithmatic expressions\n-Coding arithmatic expressions ",
      "metadata": {}
    },
    {
      "cell_type": "markdown",
      "source": "### Author\nSyed Umair Javed",
      "metadata": {}
    },
    {
      "cell_type": "markdown",
      "source": "#### List of Languages Used in Data Science\n1. Python\n2. R\n3. Java\n4. Scala\n5. SQL",
      "metadata": {}
    },
    {
      "cell_type": "markdown",
      "source": "#### List of Data Science Libraries in Various Languages\n1. Pandas \n2. ggplot\n3. TensorFlow",
      "metadata": {
        "jp-MarkdownHeadingCollapsed": true
      }
    },
    {
      "cell_type": "markdown",
      "source": "#### Data Science Tools\n\n|Data Science Tools|\n|------------------|\n|RStudio|\n|Jupyter Lab|\n|Apache Spark|\n|Anaconda|\n",
      "metadata": {}
    },
    {
      "cell_type": "markdown",
      "source": "### Below are a few examples of evaluating arithmetic expressions in Python\n\n2+2\n\n4-2\n\n5*8\n\n9/2",
      "metadata": {}
    },
    {
      "cell_type": "code",
      "source": "#This a simple arithmetic expression to mutiply then add integers\n\nprint(\"Multiplying 3 with 4 and then adding 5 equals: \" + str((3*4)+5))",
      "metadata": {
        "trusted": true
      },
      "execution_count": 13,
      "outputs": [
        {
          "name": "stdout",
          "text": "Multiplying 3 with 4 and then adding 5 equals: 17\n",
          "output_type": "stream"
        }
      ]
    },
    {
      "cell_type": "code",
      "source": "#This will convert minutes into hours\n\nprint(\"Dividing 200 minutes by 60 turns the time period into \" + str(200/60) + \" hours\")",
      "metadata": {
        "trusted": true
      },
      "execution_count": 14,
      "outputs": [
        {
          "name": "stdout",
          "text": "Diving 200 minutes by 60 turns the time period into 3.3333333333333335 hours\n",
          "output_type": "stream"
        }
      ]
    },
    {
      "cell_type": "code",
      "source": "",
      "metadata": {},
      "execution_count": null,
      "outputs": []
    }
  ]
}